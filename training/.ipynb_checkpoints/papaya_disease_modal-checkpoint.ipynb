{
 "cells": [
  {
   "cell_type": "code",
   "execution_count": 1,
   "id": "de40c688-812b-4f9a-8f38-4c7dfb11ebe7",
   "metadata": {},
   "outputs": [],
   "source": [
    "import tensorflow as tf\n",
    "import numpy as np\n",
    "import matplotlib.pyplot as plt\n",
    "from sklearn.model_selection import train_test_split\n",
    "from sklearn.metrics import accuracy_score\n",
    "from tensorflow.keras.preprocessing.image import ImageDataGenerator"
   ]
  },
  {
   "cell_type": "code",
   "execution_count": 2,
   "id": "368570f5-232b-4af0-b03b-6ac4307e64b6",
   "metadata": {},
   "outputs": [
    {
     "name": "stdout",
     "output_type": "stream",
     "text": [
      "2.10.0\n"
     ]
    }
   ],
   "source": [
    "print(tf.__version__)"
   ]
  },
  {
   "cell_type": "code",
   "execution_count": 3,
   "id": "c46cadf3-b809-41ee-84e5-cd1fb290db04",
   "metadata": {},
   "outputs": [
    {
     "name": "stdout",
     "output_type": "stream",
     "text": [
      "Found 184 images belonging to 2 classes.\n",
      "Found 26 images belonging to 2 classes.\n"
     ]
    }
   ],
   "source": [
    "train_datagen = ImageDataGenerator(\n",
    "    rescale=1./255,\n",
    "    rotation_range=20,\n",
    "    width_shift_range=0.2,\n",
    "    height_shift_range=0.2,\n",
    "    shear_range=0.2,\n",
    "    zoom_range=0.2,\n",
    "    horizontal_flip=True,\n",
    "    fill_mode='nearest'\n",
    ")\n",
    "\n",
    "val_datagen = ImageDataGenerator(rescale=1./255)\n",
    "\n",
    "train_generator = train_datagen.flow_from_directory(\n",
    "    'papaya_dataset/train',\n",
    "    target_size=(224, 224),\n",
    "    batch_size=32,\n",
    "    class_mode='categorical'\n",
    ")\n",
    "\n",
    "val_generator = val_datagen.flow_from_directory(\n",
    "    'papaya_dataset/val',\n",
    "    target_size=(224, 224),\n",
    "    batch_size=32,\n",
    "    class_mode='categorical'\n",
    ")"
   ]
  },
  {
   "cell_type": "code",
   "execution_count": 4,
   "id": "111c1cb3-9129-4a4f-9e98-234e0854f5f0",
   "metadata": {},
   "outputs": [],
   "source": [
    "from tensorflow.keras.applications import DenseNet121\n",
    "from tensorflow.keras.models import Sequential\n",
    "from tensorflow.keras.layers import Dense, GlobalAveragePooling2D"
   ]
  },
  {
   "cell_type": "code",
   "execution_count": 5,
   "id": "cc699429-8e8d-4d9b-8814-1b1a40116730",
   "metadata": {},
   "outputs": [],
   "source": [
    "base_model = DenseNet121(weights='imagenet', include_top=False, input_shape=(224, 224, 3))\n",
    "\n",
    "model = Sequential()\n",
    "model.add(base_model)\n",
    "model.add(GlobalAveragePooling2D())\n",
    "model.add(Dense(2, activation='softmax'))  # Change the number of units according to your classes\n",
    "\n",
    "# Freeze the base model layers\n",
    "for layer in base_model.layers:\n",
    "    layer.trainable = False"
   ]
  },
  {
   "cell_type": "code",
   "execution_count": 6,
   "id": "6f50d5e0-0adc-46fe-b0bd-a9a51f5623c1",
   "metadata": {},
   "outputs": [],
   "source": [
    "model.compile(optimizer='adam', loss='categorical_crossentropy', metrics=['accuracy'])"
   ]
  },
  {
   "cell_type": "code",
   "execution_count": 7,
   "id": "31d823a8-6949-4907-b00b-c0e3481187fe",
   "metadata": {},
   "outputs": [
    {
     "name": "stdout",
     "output_type": "stream",
     "text": [
      "Epoch 1/20\n",
      "5/5 [==============================] - 131s 27s/step - loss: 0.8730 - accuracy: 0.5125\n",
      "Epoch 2/20\n",
      "5/5 [==============================] - 77s 16s/step - loss: 0.6358 - accuracy: 0.6313\n",
      "Epoch 3/20\n",
      "5/5 [==============================] - 99s 20s/step - loss: 0.4275 - accuracy: 0.8618\n",
      "Epoch 4/20\n",
      "5/5 [==============================] - 81s 16s/step - loss: 0.3589 - accuracy: 0.8750\n",
      "Epoch 5/20\n",
      "5/5 [==============================] - 72s 14s/step - loss: 0.2805 - accuracy: 0.8882\n",
      "Epoch 6/20\n",
      "5/5 [==============================] - 73s 15s/step - loss: 0.2542 - accuracy: 0.8947\n",
      "Epoch 7/20\n",
      "5/5 [==============================] - 74s 14s/step - loss: 0.2422 - accuracy: 0.8816\n",
      "Epoch 8/20\n",
      "5/5 [==============================] - 77s 15s/step - loss: 0.1729 - accuracy: 0.9312\n",
      "Epoch 9/20\n",
      "5/5 [==============================] - 74s 15s/step - loss: 0.1770 - accuracy: 0.9474\n",
      "Epoch 10/20\n",
      "5/5 [==============================] - 77s 15s/step - loss: 0.1480 - accuracy: 0.9539\n",
      "Epoch 11/20\n",
      "5/5 [==============================] - 77s 15s/step - loss: 0.1509 - accuracy: 0.9342\n",
      "Epoch 12/20\n",
      "5/5 [==============================] - 76s 16s/step - loss: 0.1198 - accuracy: 0.9474\n",
      "Epoch 13/20\n",
      "5/5 [==============================] - 73s 15s/step - loss: 0.1249 - accuracy: 0.9671\n",
      "Epoch 14/20\n",
      "5/5 [==============================] - 73s 14s/step - loss: 0.1166 - accuracy: 0.9671\n",
      "Epoch 15/20\n",
      "5/5 [==============================] - 78s 15s/step - loss: 0.0980 - accuracy: 0.9937\n",
      "Epoch 16/20\n",
      "5/5 [==============================] - 75s 15s/step - loss: 0.0955 - accuracy: 0.9737\n",
      "Epoch 17/20\n",
      "5/5 [==============================] - 75s 15s/step - loss: 0.1080 - accuracy: 0.9671\n",
      "Epoch 18/20\n",
      "5/5 [==============================] - 73s 14s/step - loss: 0.0748 - accuracy: 0.9868\n",
      "Epoch 19/20\n",
      "5/5 [==============================] - 73s 15s/step - loss: 0.0756 - accuracy: 0.9868\n",
      "Epoch 20/20\n",
      "5/5 [==============================] - 73s 14s/step - loss: 0.0759 - accuracy: 0.9868\n"
     ]
    }
   ],
   "source": [
    "history = model.fit(\n",
    "    train_generator,\n",
    "    steps_per_epoch=train_generator.samples // train_generator.batch_size,\n",
    "    validation_data=val_generator,\n",
    "    validation_steps=val_generator.samples // val_generator.batch_size,\n",
    "    epochs=20  # Adjust epochs as needed\n",
    ")"
   ]
  },
  {
   "cell_type": "code",
   "execution_count": 8,
   "id": "0588d487-1f2f-43d8-8339-adc301b3a981",
   "metadata": {},
   "outputs": [
    {
     "name": "stdout",
     "output_type": "stream",
     "text": [
      "Found 53 images belonging to 2 classes.\n",
      "2/2 [==============================] - 37s 16s/step - loss: 0.1217 - accuracy: 0.9623\n",
      "Test accuracy: 0.96\n"
     ]
    }
   ],
   "source": [
    "test_datagen = ImageDataGenerator(rescale=1./255)\n",
    "\n",
    "test_generator = test_datagen.flow_from_directory(\n",
    "    'papaya_dataset/test',\n",
    "    target_size=(224, 224),\n",
    "    batch_size=32,\n",
    "    class_mode='categorical'\n",
    ")\n",
    "\n",
    "test_loss, test_accuracy = model.evaluate(test_generator)\n",
    "print(f'Test accuracy: {test_accuracy:.2f}')"
   ]
  },
  {
   "cell_type": "code",
   "execution_count": 21,
   "id": "7150e7b5-2e12-4ea0-8af8-7cf3dc6a1f01",
   "metadata": {},
   "outputs": [],
   "source": [
    "model = tf.keras.models.load_model('D:/papaya_diseases/training/saved_modal/papaya_disease_model.h5')\n",
    "for layer in model.layers:\n",
    "    layer._name = layer.name.replace('/', '_')  # Replace '/' with '_'\n",
    "model.save('./saved_modal/papaya_disease_model_fixed.h5')\n"
   ]
  },
  {
   "cell_type": "code",
   "execution_count": 14,
   "id": "a35c8e3a-7360-4d53-ac3e-cc9ff586cd47",
   "metadata": {},
   "outputs": [],
   "source": [
    "model.save('./saved_modal/papaya_disease_model.h5')"
   ]
  },
  {
   "cell_type": "code",
   "execution_count": 11,
   "id": "0578ae87-d08f-405a-b371-363e1560b1ac",
   "metadata": {},
   "outputs": [
    {
     "name": "stdout",
     "output_type": "stream",
     "text": [
      "papaya_dataset\\val\\Meley_Bug\\20240713_145534.jpg\n"
     ]
    }
   ],
   "source": [
    "import os\n",
    "\n",
    "image_path = os.path.join('papaya_dataset', 'val', 'Meley_Bug', '20240713_145534.jpg')\n",
    "\n",
    "print(image_path)\n"
   ]
  },
  {
   "cell_type": "code",
   "execution_count": 23,
   "id": "1563dec0-de3a-474d-8822-2a97fdfa079a",
   "metadata": {
    "scrolled": true
   },
   "outputs": [
    {
     "name": "stdout",
     "output_type": "stream",
     "text": [
      "Image Path: Meley Bug\\20240713_145032.jpg\n",
      "1/1 [==============================] - 1s 1s/step\n",
      "Predicted Label: Mite Bug\n",
      "Raw Predictions: [[0.4045239  0.59547603]]\n"
     ]
    }
   ],
   "source": [
    "import os\n",
    "from tensorflow.keras.preprocessing import image\n",
    "import numpy as np\n",
    "from tensorflow.keras.models import load_model\n",
    "\n",
    "# Load the model (make sure to adjust the path as necessary)\n",
    "model = load_model('./saved_modal/papaya_disease_model.h5')\n",
    "\n",
    "# Define the mapping for class indices to labels\n",
    "class_labels = {0: 'Mealy Bug', 1: 'Mite Bug'}  # Adjust based on your class order\n",
    "\n",
    "def predict_image(img_path):\n",
    "    img = image.load_img(img_path, target_size=(224, 224))\n",
    "    img_array = image.img_to_array(img) / 255.0 #convert the feeded image to modal prefered one\n",
    "    img_array = np.expand_dims(img_array, axis=0)\n",
    "    \n",
    "    predictions = model.predict(img_array)\n",
    "    \n",
    "    # Get the index of the highest prediction\n",
    "    predicted_index = np.argmax(predictions[0])\n",
    "    \n",
    "    # Get the corresponding label\n",
    "    predicted_label = class_labels[predicted_index]\n",
    "    \n",
    "    return predicted_label, predictions\n",
    "\n",
    "# Path to the image\n",
    "image_path = os.path.join('Meley Bug', '20240713_145032.jpg')\n",
    "\n",
    "# To verify the path\n",
    "print(\"Image Path:\", image_path)\n",
    "\n",
    "# Get predictions\n",
    "predicted_label, predictions = predict_image(image_path)\n",
    "\n",
    "# Print the results\n",
    "print(f\"Predicted Label: {predicted_label}\")\n",
    "print(f\"Raw Predictions: {predictions}\")\n"
   ]
  },
  {
   "cell_type": "code",
   "execution_count": 21,
   "id": "ba0c4b93-2743-4544-851f-57438295bd84",
   "metadata": {},
   "outputs": [
    {
     "name": "stdout",
     "output_type": "stream",
     "text": [
      "1/1 [==============================] - 0s 119ms/step\n",
      "('Mite Bug', array([[0.21925518, 0.7807448 ]], dtype=float32))\n"
     ]
    }
   ],
   "source": [
    "predictions = predict_image(image_path)\n",
    "print(predictions)"
   ]
  },
  {
   "cell_type": "code",
   "execution_count": 33,
   "id": "96881052-aac4-4cdd-8aca-c6341b6f4b1e",
   "metadata": {},
   "outputs": [],
   "source": [
    "#predict fuction for Unrecognized images >>>"
   ]
  },
  {
   "cell_type": "code",
   "execution_count": 37,
   "id": "56d6869d-4c9d-4be9-8744-fa87c0b2d60a",
   "metadata": {},
   "outputs": [
    {
     "name": "stdout",
     "output_type": "stream",
     "text": [
      "Image Path: papaya_dataset\\val\\Meley_Bug\\20240713_152042.jpg\n",
      "1/1 [==============================] - 4s 4s/step\n",
      "Predicted Label: Mealy Bug\n",
      "Raw Predictions: [[0.9974837  0.00251638]]\n"
     ]
    }
   ],
   "source": [
    "import os\n",
    "from tensorflow.keras.preprocessing import image\n",
    "import numpy as np\n",
    "from tensorflow.keras.models import load_model\n",
    "\n",
    "# Load the model (make sure to adjust the path as necessary)\n",
    "model = load_model('./saved_modal/papaya_disease_model.h5')\n",
    "\n",
    "# Define the mapping for class indices to labels\n",
    "class_labels = {0: 'Mealy Bug', 1: 'Mite Bug'}  # Adjust based on your class order\n",
    "threshold = 0.9  # Set the threshold for recognition\n",
    "\n",
    "def predict_image(img_path):\n",
    "    img = image.load_img(img_path, target_size=(224, 224))\n",
    "    img_array = image.img_to_array(img) / 255.0\n",
    "    img_array = np.expand_dims(img_array, axis=0)\n",
    "    \n",
    "    predictions = model.predict(img_array)\n",
    "    \n",
    "    # Get the index of the highest prediction\n",
    "    predicted_index = np.argmax(predictions[0])\n",
    "    highest_probability = predictions[0][predicted_index]\n",
    "    \n",
    "    # Check if the highest probability is above the threshold\n",
    "    if highest_probability < threshold:\n",
    "        predicted_label = \"Unrecognized\"\n",
    "    else:\n",
    "        predicted_label = class_labels[predicted_index]\n",
    "    \n",
    "    return predicted_label, predictions\n",
    "\n",
    "# Path to the image\n",
    "image_path = os.path.join('papaya_dataset', 'val', 'Meley_Bug', '20240713_152042.jpg')\n",
    "\n",
    "# To verify the path\n",
    "print(\"Image Path:\", image_path)\n",
    "\n",
    "# Get predictions\n",
    "predicted_label, predictions = predict_image(image_path)\n",
    "\n",
    "# Print the results\n",
    "print(f\"Predicted Label: {predicted_label}\")\n",
    "print(f\"Raw Predictions: {predictions}\")"
   ]
  },
  {
   "cell_type": "code",
   "execution_count": null,
   "id": "5f32e21f-46ba-4b0d-bfcb-4c0ca66c3ebf",
   "metadata": {},
   "outputs": [],
   "source": []
  },
  {
   "cell_type": "code",
   "execution_count": null,
   "id": "b72d454e-e301-4c36-b8db-1da43af16f55",
   "metadata": {},
   "outputs": [],
   "source": []
  }
 ],
 "metadata": {
  "kernelspec": {
   "display_name": "Python 3 (ipykernel)",
   "language": "python",
   "name": "python3"
  },
  "language_info": {
   "codemirror_mode": {
    "name": "ipython",
    "version": 3
   },
   "file_extension": ".py",
   "mimetype": "text/x-python",
   "name": "python",
   "nbconvert_exporter": "python",
   "pygments_lexer": "ipython3",
   "version": "3.9.18"
  }
 },
 "nbformat": 4,
 "nbformat_minor": 5
}
