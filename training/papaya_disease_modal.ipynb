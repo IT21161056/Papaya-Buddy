{
 "cells": [
  {
   "cell_type": "code",
   "execution_count": 4,
   "id": "de40c688-812b-4f9a-8f38-4c7dfb11ebe7",
   "metadata": {},
   "outputs": [],
   "source": [
    "import tensorflow as tf\n",
    "import numpy as np\n",
    "import matplotlib.pyplot as plt\n",
    "from sklearn.model_selection import train_test_split\n",
    "from sklearn.metrics import accuracy_score\n",
    "from tensorflow.keras.preprocessing.image import ImageDataGenerator"
   ]
  },
  {
   "cell_type": "code",
   "execution_count": 5,
   "id": "368570f5-232b-4af0-b03b-6ac4307e64b6",
   "metadata": {},
   "outputs": [
    {
     "name": "stdout",
     "output_type": "stream",
     "text": [
      "2.10.0\n"
     ]
    }
   ],
   "source": [
    "print(tf.__version__)"
   ]
  },
  {
   "cell_type": "code",
   "execution_count": 6,
   "id": "c46cadf3-b809-41ee-84e5-cd1fb290db04",
   "metadata": {},
   "outputs": [
    {
     "name": "stdout",
     "output_type": "stream",
     "text": [
      "Found 413 images belonging to 4 classes.\n",
      "Found 58 images belonging to 4 classes.\n"
     ]
    }
   ],
   "source": [
    "train_datagen = ImageDataGenerator(\n",
    "    rescale=1./255,\n",
    "    rotation_range=20,\n",
    "    width_shift_range=0.2,\n",
    "    height_shift_range=0.2,\n",
    "    shear_range=0.2,\n",
    "    zoom_range=0.2,\n",
    "    horizontal_flip=True,\n",
    "    fill_mode='nearest'\n",
    ")\n",
    "\n",
    "val_datagen = ImageDataGenerator(rescale=1./255)\n",
    "\n",
    "train_generator = train_datagen.flow_from_directory(\n",
    "    'densenet_dataset/splitted_data/train',\n",
    "    target_size=(224, 224),\n",
    "    batch_size=32,\n",
    "    class_mode='categorical'\n",
    ")\n",
    "\n",
    "val_generator = val_datagen.flow_from_directory(\n",
    "    'densenet_dataset/splitted_data/val',\n",
    "    target_size=(224, 224),\n",
    "    batch_size=32,\n",
    "    class_mode='categorical'\n",
    ")"
   ]
  },
  {
   "cell_type": "code",
   "execution_count": 7,
   "id": "111c1cb3-9129-4a4f-9e98-234e0854f5f0",
   "metadata": {},
   "outputs": [],
   "source": [
    "from tensorflow.keras.applications import DenseNet121\n",
    "from tensorflow.keras.models import Sequential\n",
    "from tensorflow.keras.layers import Dense, GlobalAveragePooling2D"
   ]
  },
  {
   "cell_type": "code",
   "execution_count": 8,
   "id": "cc699429-8e8d-4d9b-8814-1b1a40116730",
   "metadata": {},
   "outputs": [],
   "source": [
    "base_model = DenseNet121(weights='imagenet', include_top=False, input_shape=(224, 224, 3))\n",
    "\n",
    "model = Sequential()\n",
    "model.add(base_model)\n",
    "model.add(GlobalAveragePooling2D())\n",
    "model.add(Dense(4, activation='softmax'))  # 4 Dense for 4 classes\n",
    "\n",
    "# Freeze the base model layers\n",
    "for layer in base_model.layers:\n",
    "    layer.trainable = False"
   ]
  },
  {
   "cell_type": "code",
   "execution_count": 9,
   "id": "6f50d5e0-0adc-46fe-b0bd-a9a51f5623c1",
   "metadata": {},
   "outputs": [],
   "source": [
    "model.compile(optimizer='adam', loss='categorical_crossentropy', metrics=['accuracy'])"
   ]
  },
  {
   "cell_type": "code",
   "execution_count": 10,
   "id": "31d823a8-6949-4907-b00b-c0e3481187fe",
   "metadata": {},
   "outputs": [
    {
     "name": "stdout",
     "output_type": "stream",
     "text": [
      "Epoch 1/30\n",
      "12/12 [==============================] - 295s 25s/step - loss: 1.3155 - accuracy: 0.3780 - val_loss: 0.8790 - val_accuracy: 0.5938\n",
      "Epoch 2/30\n",
      "12/12 [==============================] - 283s 24s/step - loss: 0.7635 - accuracy: 0.7638 - val_loss: 0.4783 - val_accuracy: 0.9062\n",
      "Epoch 3/30\n",
      "12/12 [==============================] - 286s 24s/step - loss: 0.5036 - accuracy: 0.8819 - val_loss: 0.2448 - val_accuracy: 0.9688\n",
      "Epoch 4/30\n",
      "12/12 [==============================] - 284s 24s/step - loss: 0.3645 - accuracy: 0.9160 - val_loss: 0.2254 - val_accuracy: 0.9375\n",
      "Epoch 5/30\n",
      "12/12 [==============================] - 284s 24s/step - loss: 0.3107 - accuracy: 0.9318 - val_loss: 0.1714 - val_accuracy: 0.9688\n",
      "Epoch 6/30\n",
      "12/12 [==============================] - 285s 24s/step - loss: 0.2566 - accuracy: 0.9528 - val_loss: 0.1677 - val_accuracy: 0.9688\n",
      "Epoch 7/30\n",
      "12/12 [==============================] - 287s 24s/step - loss: 0.2404 - accuracy: 0.9291 - val_loss: 0.1190 - val_accuracy: 1.0000\n",
      "Epoch 8/30\n",
      "12/12 [==============================] - 290s 24s/step - loss: 0.2079 - accuracy: 0.9501 - val_loss: 0.0950 - val_accuracy: 0.9688\n",
      "Epoch 9/30\n",
      "12/12 [==============================] - 295s 25s/step - loss: 0.1663 - accuracy: 0.9606 - val_loss: 0.1720 - val_accuracy: 0.9375\n",
      "Epoch 10/30\n",
      "12/12 [==============================] - 274s 23s/step - loss: 0.1578 - accuracy: 0.9685 - val_loss: 0.0709 - val_accuracy: 1.0000\n",
      "Epoch 11/30\n",
      "12/12 [==============================] - 236s 20s/step - loss: 0.1506 - accuracy: 0.9711 - val_loss: 0.0676 - val_accuracy: 0.9688\n",
      "Epoch 12/30\n",
      "12/12 [==============================] - 224s 19s/step - loss: 0.1327 - accuracy: 0.9659 - val_loss: 0.0844 - val_accuracy: 0.9688\n",
      "Epoch 13/30\n",
      "12/12 [==============================] - 243s 21s/step - loss: 0.1264 - accuracy: 0.9738 - val_loss: 0.1147 - val_accuracy: 0.9688\n",
      "Epoch 14/30\n",
      "12/12 [==============================] - 260s 22s/step - loss: 0.1224 - accuracy: 0.9738 - val_loss: 0.0594 - val_accuracy: 1.0000\n",
      "Epoch 15/30\n",
      "12/12 [==============================] - 255s 22s/step - loss: 0.1205 - accuracy: 0.9659 - val_loss: 0.0696 - val_accuracy: 1.0000\n",
      "Epoch 16/30\n",
      "12/12 [==============================] - 273s 23s/step - loss: 0.1256 - accuracy: 0.9764 - val_loss: 0.0687 - val_accuracy: 0.9688\n",
      "Epoch 17/30\n",
      "12/12 [==============================] - 269s 23s/step - loss: 0.1116 - accuracy: 0.9711 - val_loss: 0.0343 - val_accuracy: 1.0000\n",
      "Epoch 18/30\n",
      "12/12 [==============================] - 266s 22s/step - loss: 0.1030 - accuracy: 0.9790 - val_loss: 0.0663 - val_accuracy: 1.0000\n",
      "Epoch 19/30\n",
      "12/12 [==============================] - 275s 23s/step - loss: 0.0961 - accuracy: 0.9764 - val_loss: 0.0257 - val_accuracy: 1.0000\n",
      "Epoch 20/30\n",
      "12/12 [==============================] - 255s 21s/step - loss: 0.0898 - accuracy: 0.9816 - val_loss: 0.0425 - val_accuracy: 1.0000\n",
      "Epoch 21/30\n",
      "12/12 [==============================] - 268s 23s/step - loss: 0.0907 - accuracy: 0.9816 - val_loss: 0.0256 - val_accuracy: 1.0000\n",
      "Epoch 22/30\n",
      "12/12 [==============================] - 214s 18s/step - loss: 0.0887 - accuracy: 0.9764 - val_loss: 0.0407 - val_accuracy: 1.0000\n",
      "Epoch 23/30\n",
      "12/12 [==============================] - 206s 17s/step - loss: 0.0705 - accuracy: 0.9921 - val_loss: 0.0222 - val_accuracy: 1.0000\n",
      "Epoch 24/30\n",
      "12/12 [==============================] - 228s 20s/step - loss: 0.0734 - accuracy: 0.9895 - val_loss: 0.0415 - val_accuracy: 1.0000\n",
      "Epoch 25/30\n",
      "12/12 [==============================] - 258s 22s/step - loss: 0.0831 - accuracy: 0.9869 - val_loss: 0.0305 - val_accuracy: 1.0000\n",
      "Epoch 26/30\n",
      "12/12 [==============================] - 250s 21s/step - loss: 0.0638 - accuracy: 0.9870 - val_loss: 0.0244 - val_accuracy: 1.0000\n",
      "Epoch 27/30\n",
      "12/12 [==============================] - 243s 21s/step - loss: 0.0814 - accuracy: 0.9816 - val_loss: 0.0333 - val_accuracy: 1.0000\n",
      "Epoch 28/30\n",
      "12/12 [==============================] - 242s 20s/step - loss: 0.0653 - accuracy: 0.9895 - val_loss: 0.0212 - val_accuracy: 1.0000\n",
      "Epoch 29/30\n",
      "12/12 [==============================] - 228s 19s/step - loss: 0.0671 - accuracy: 0.9895 - val_loss: 0.0316 - val_accuracy: 1.0000\n",
      "Epoch 30/30\n",
      "12/12 [==============================] - 234s 20s/step - loss: 0.0629 - accuracy: 0.9921 - val_loss: 0.0294 - val_accuracy: 1.0000\n"
     ]
    }
   ],
   "source": [
    "history = model.fit(\n",
    "    train_generator,\n",
    "    steps_per_epoch=train_generator.samples // train_generator.batch_size,\n",
    "    validation_data=val_generator,\n",
    "    validation_steps=val_generator.samples // val_generator.batch_size,\n",
    "    epochs=30,  # number of times modal sees the dataset\n",
    "    verbose=1,\n",
    ")"
   ]
  },
  {
   "cell_type": "code",
   "execution_count": 12,
   "id": "0588d487-1f2f-43d8-8339-adc301b3a981",
   "metadata": {},
   "outputs": [
    {
     "name": "stdout",
     "output_type": "stream",
     "text": [
      "Found 120 images belonging to 4 classes.\n",
      "4/4 [==============================] - 65s 17s/step - loss: 0.0459 - accuracy: 0.9917\n",
      "Test accuracy: 0.99\n"
     ]
    }
   ],
   "source": [
    "test_datagen = ImageDataGenerator(rescale=1./255)\n",
    "\n",
    "test_generator = test_datagen.flow_from_directory(\n",
    "    'densenet_dataset/splitted_data/test',\n",
    "    target_size=(224, 224),\n",
    "    batch_size=32,\n",
    "    class_mode='categorical'\n",
    ")\n",
    "\n",
    "test_loss, test_accuracy = model.evaluate(test_generator)\n",
    "print(f'Test accuracy: {test_accuracy:.2f}')"
   ]
  },
  {
   "cell_type": "code",
   "execution_count": 13,
   "id": "0578ae87-d08f-405a-b371-363e1560b1ac",
   "metadata": {},
   "outputs": [
    {
     "name": "stdout",
     "output_type": "stream",
     "text": [
      "densenet_dataset\\splited_data\\val\\Mealy Bug\\20240713_145922.jpg\n"
     ]
    }
   ],
   "source": [
    "import os\n",
    "\n",
    "image_path = os.path.join('densenet_dataset', 'splited_data', 'val', 'Mealy Bug','20240713_145922.jpg')\n",
    "\n",
    "print(image_path)"
   ]
  },
  {
   "cell_type": "code",
   "execution_count": 14,
   "id": "db8bff15-535d-45af-8ae3-72dee51f891b",
   "metadata": {},
   "outputs": [
    {
     "data": {
      "image/png": "[encoded data removed]",
      "text/plain": [
       "<Figure size 1200x500 with 2 Axes>"
      ]
     },
     "metadata": {},
     "output_type": "display_data"
    }
   ],
   "source": [
    "import matplotlib.pyplot as plt\n",
    "\n",
    "# Function to plot training accuracy and loss\n",
    "def plot_training_history(history):\n",
    "    plt.figure(figsize=(12, 5))\n",
    "\n",
    "    # Plot training accuracy\n",
    "    plt.subplot(1, 2, 1)\n",
    "    plt.plot(history.history['accuracy'], label='Training Accuracy', color='blue')\n",
    "    plt.title('Model Training Accuracy')\n",
    "    plt.xlabel('Epoch')\n",
    "    plt.ylabel('Accuracy')\n",
    "    plt.legend(loc='lower right')\n",
    "\n",
    "    # Plot training loss\n",
    "    plt.subplot(1, 2, 2)\n",
    "    plt.plot(history.history['loss'], label='Training Loss', color='red')\n",
    "    plt.title('Model Training Loss')\n",
    "    plt.xlabel('Epoch')\n",
    "    plt.ylabel('Loss')\n",
    "    plt.legend(loc='upper right')\n",
    "\n",
    "    # Show plots\n",
    "    plt.tight_layout()\n",
    "    plt.show()\n",
    "\n",
    "# Call the function to display the plots\n",
    "plot_training_history(history)\n"
   ]
  },
  {
   "cell_type": "code",
   "execution_count": 25,
   "id": "96881052-aac4-4cdd-8aca-c6341b6f4b1e",
   "metadata": {},
   "outputs": [],
   "source": [
    "#predict fuction for Unrecognized images >>>"
   ]
  },
  {
   "cell_type": "code",
   "execution_count": 16,
   "id": "56d6869d-4c9d-4be9-8744-fa87c0b2d60a",
   "metadata": {},
   "outputs": [
    {
     "name": "stdout",
     "output_type": "stream",
     "text": [
      "Image Path: densenet_dataset\\splitted_data\\test\\Mealy Bug\\20240713_144408.jpg\n",
      "1/1 [==============================] - 5s 5s/step\n",
      "Predicted Label: Mealy Bug\n",
      "Raw Predictions: [[6.4563997e-02 8.3480333e-04 9.3456638e-01 3.4916662e-05]]\n"
     ]
    }
   ],
   "source": [
    "import os\n",
    "from tensorflow.keras.preprocessing import image\n",
    "import numpy as np\n",
    "from tensorflow.keras.models import load_model\n",
    "\n",
    "# Define the mapping for class indices to labels\n",
    "class_labels = {0:'Healthy Fruit', 1:'Healthy Leaf', 2: 'Mealy Bug', 3: 'Mite Bug'}  # Adjust based on your class order\n",
    "\n",
    "def predict_image(img_path):\n",
    "    img = image.load_img(img_path, target_size=(224, 224))\n",
    "    img_array = image.img_to_array(img) / 255.0\n",
    "    img_array = np.expand_dims(img_array, axis=0)\n",
    "    \n",
    "    predictions = model.predict(img_array)\n",
    "    \n",
    "    # Get the index of the highest prediction\n",
    "    predicted_index = np.argmax(predictions[0])\n",
    "    predicted_label = class_labels[predicted_index]\n",
    "    \n",
    "    return predicted_label, predictions\n",
    "\n",
    "# Path to the image\n",
    "image_path = os.path.join('densenet_dataset', 'splitted_data', 'test', 'Mealy Bug', '20240713_144408.jpg')\n",
    "\n",
    "# To verify the path\n",
    "print(\"Image Path:\", image_path)\n",
    "\n",
    "# Get predictions\n",
    "predicted_label, predictions = predict_image(image_path)\n",
    "\n",
    "# Print the results\n",
    "print(f\"Predicted Label: {predicted_label}\")\n",
    "print(f\"Raw Predictions: {predictions}\")\n"
   ]
  },
  {
   "cell_type": "code",
   "execution_count": 51,
   "id": "5f32e21f-46ba-4b0d-bfcb-4c0ca66c3ebf",
   "metadata": {},
   "outputs": [],
   "source": [
    "model.save('./saved_modal/papaya_disease_model.h5')"
   ]
  },
  {
   "cell_type": "code",
   "execution_count": null,
   "id": "b72d454e-e301-4c36-b8db-1da43af16f55",
   "metadata": {},
   "outputs": [],
   "source": []
  },
  {
   "cell_type": "code",
   "execution_count": null,
   "id": "3b0ffa2a-d82f-454f-81a5-1f8763337b16",
   "metadata": {},
   "outputs": [],
   "source": []
  }
 ],
 "metadata": {
  "kernelspec": {
   "display_name": "Python 3 (ipykernel)",
   "language": "python",
   "name": "python3"
  },
  "language_info": {
   "codemirror_mode": {
    "name": "ipython",
    "version": 3
   },
   "file_extension": ".py",
   "mimetype": "text/x-python",
   "name": "python",
   "nbconvert_exporter": "python",
   "pygments_lexer": "ipython3",
   "version": "3.9.18"
  }
 },
 "nbformat": 4,
 "nbformat_minor": 5
}
