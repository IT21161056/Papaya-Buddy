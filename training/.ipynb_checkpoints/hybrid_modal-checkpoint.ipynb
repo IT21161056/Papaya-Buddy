{
 "cells": [
  {
   "cell_type": "code",
   "execution_count": 5,
   "id": "f4bf8149-7bfd-49ee-84c7-f5188e5a6d31",
   "metadata": {},
   "outputs": [],
   "source": [
    "import os\n",
    "import numpy as np\n",
    "import tensorflow as tf\n",
    "from tensorflow.keras.preprocessing import image\n",
    "from tensorflow.keras.models import load_model\n",
    "\n",
    "# Class labels for EfficientNet and DenseNet\n",
    "eff_class_labels = {0: 'leaf', 1: 'fruit'}  # EfficientNet labels\n",
    "dense_class_labels = {0: 'Mealy Bug', 1: 'Mite Bug'}  # DenseNet labels\n",
    "\n",
    "# Threshold for both models\n",
    "threshold = 0.9\n",
    "\n",
    "# Load EfficientNet model\n",
    "eff_model_path = \"efficientNet_modal/efficient_classify_model.h5\"\n",
    "eff_model = load_model(eff_model_path)\n",
    "\n",
    "# Load DenseNet model\n",
    "dense_model_path = \"saved_modal/papaya_disease_model.h5\"\n",
    "dense_model = load_model(dense_model_path)"
   ]
  },
  {
   "cell_type": "code",
   "execution_count": 7,
   "id": "f8a6e344-d112-4881-9321-cf37a24eea01",
   "metadata": {},
   "outputs": [
    {
     "name": "stdout",
     "output_type": "stream",
     "text": [
      "1/1 [==============================] - 0s 42ms/step\n",
      "EfficientNet Prediction: fruit, Confidence: 0.94\n",
      "1/1 [==============================] - 0s 51ms/step\n",
      "DenseNet Prediction: Mite Bug, Confidence: 0.94\n"
     ]
    }
   ],
   "source": [
    "def preprocess_image(img_path, target_size):\n",
    "    \"\"\"Preprocess an image for model prediction.\"\"\"\n",
    "    img = image.load_img(img_path, target_size=target_size)\n",
    "    img_array = image.img_to_array(img) / 255.0\n",
    "    img_array = np.expand_dims(img_array, axis=0)\n",
    "    return img_array\n",
    "\n",
    "def predict_eff(img_path):\n",
    "    \"\"\"Predict with EfficientNet.\"\"\"\n",
    "    img_array = preprocess_image(img_path, target_size=(224, 224))  # Match EfficientNet's input size\n",
    "    predictions = eff_model.predict(img_array)\n",
    "    predicted_index = np.argmax(predictions[0])\n",
    "    highest_probability = predictions[0][predicted_index]\n",
    "    if highest_probability < threshold:\n",
    "        return \"Unrecognized\", highest_probability, None\n",
    "    else:\n",
    "        return eff_class_labels[predicted_index], highest_probability, img_array\n",
    "\n",
    "def predict_dense(img_array):\n",
    "    \"\"\"Predict with DenseNet.\"\"\"\n",
    "    predictions = dense_model.predict(img_array)\n",
    "    predicted_index = np.argmax(predictions[0])\n",
    "    highest_probability = predictions[0][predicted_index]\n",
    "    if highest_probability < threshold:\n",
    "        return \"Unrecognized\", highest_probability\n",
    "    else:\n",
    "        return dense_class_labels[predicted_index], highest_probability\n",
    "\n",
    "# Path to the image\n",
    "image_path = os.path.join('leaf_fruit_dataset', 'test', 'leaf', '20240717_143401.jpg')\n",
    "\n",
    "# Step 1: Predict with EfficientNet\n",
    "eff_label, eff_confidence, processed_img = predict_eff(image_path)\n",
    "print(f\"EfficientNet Prediction: {eff_label}, Confidence: {eff_confidence:.2f}\")\n",
    "\n",
    "# Step 2: If \"fruit,\" pass to DenseNet\n",
    "if eff_label == \"fruit\" and processed_img is not None:\n",
    "    dense_label, dense_confidence = predict_dense(processed_img)\n",
    "    print(f\"DenseNet Prediction: {dense_label}, Confidence: {dense_confidence:.2f}\")\n",
    "else:\n",
    "    print(\"Image not classified as 'fruit' or confidence too low for further prediction.\")"
   ]
  },
  {
   "cell_type": "code",
   "execution_count": null,
   "id": "00475029-d5c0-44bd-aa28-a1c514aaee4a",
   "metadata": {},
   "outputs": [],
   "source": []
  }
 ],
 "metadata": {
  "kernelspec": {
   "display_name": "Python 3 (ipykernel)",
   "language": "python",
   "name": "python3"
  },
  "language_info": {
   "codemirror_mode": {
    "name": "ipython",
    "version": 3
   },
   "file_extension": ".py",
   "mimetype": "text/x-python",
   "name": "python",
   "nbconvert_exporter": "python",
   "pygments_lexer": "ipython3",
   "version": "3.9.18"
  }
 },
 "nbformat": 4,
 "nbformat_minor": 5
}
