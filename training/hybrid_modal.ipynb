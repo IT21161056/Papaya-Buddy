{
 "cells": [
  {
   "cell_type": "code",
   "execution_count": 27,
   "id": "f4bf8149-7bfd-49ee-84c7-f5188e5a6d31",
   "metadata": {},
   "outputs": [],
   "source": [
    "import os\n",
    "import time\n",
    "import numpy as np\n",
    "from tensorflow.keras.preprocessing import image\n",
    "from tensorflow.keras.applications.efficientnet import preprocess_input as eff_preprocess_input\n",
    "from tensorflow.keras.models import load_model\n",
    "\n",
    "# Class labels for EfficientNet and DenseNet\n",
    "eff_class_labels = {0:'Healthy Fruit', 1:'Healthy Leaf', 2: 'Mealy Bug', 3: 'Mite Bug'}  # EfficientNet labels\n",
    "dense_class_labels = {0: 'Mealy Bug', 1: 'Mite Bug'}  # DenseNet labels\n",
    "\n",
    "# Load EfficientNet model\n",
    "eff_model_path = \"efficientNet_model/efficient_classify_model.h5\"\n",
    "eff_model = load_model(eff_model_path)\n",
    "\n",
    "# Load DenseNet model\n",
    "dense_model_path = \"saved_modal/papaya_disease_model.h5\"\n",
    "dense_model = load_model(dense_model_path)"
   ]
  },
  {
   "cell_type": "code",
   "execution_count": 33,
   "id": "f8a6e344-d112-4881-9321-cf37a24eea01",
   "metadata": {},
   "outputs": [
    {
     "name": "stdout",
     "output_type": "stream",
     "text": [
      "Image Path: densenet_dataset\\splitted_data\\test\\Mealy Bug\\20240713_151830.jpg\n",
      "1/1 [==============================] - 0s 31ms/step\n",
      "EfficientNet Prediction: fruit, Confidence: 1.00, Inference Time: 0.0640 seconds\n",
      "1/1 [==============================] - 0s 49ms/step\n",
      "DenseNet Prediction: Mealy Bug, Confidence: 0.99, Inference Time: 0.1290 seconds\n"
     ]
    }
   ],
   "source": [
    "# Define class labels\n",
    "eff_class_labels = {0: \"fruit\", 1: \"leaf\", 2: \"other\"}  # EfficientNet classes\n",
    "dense_class_labels = {0:'Healthy Fruit', 1:'Healthy Leaf', 2: 'Mealy Bug', 3: 'Mite Bug'}   # DenseNet classes\n",
    "\n",
    "eff_threshold = 0.8   # Threshold for EfficientNet\n",
    "\n",
    "def preprocess_image(img_path, target_size, model_type='efficientnet'):\n",
    "    img = image.load_img(img_path, target_size=target_size)\n",
    "    img_array = image.img_to_array(img)\n",
    "\n",
    "    if model_type == 'efficientnet':\n",
    "        img_array = eff_preprocess_input(img_array)  # EfficientNet preprocessing\n",
    "    elif model_type == 'densenet':\n",
    "        img_array = img_array / 255.0  # Normalize for DenseNet\n",
    "\n",
    "    img_array = np.expand_dims(img_array, axis=0)  # Add batch dimension\n",
    "    return img_array\n",
    "\n",
    "def predict_eff(img_path):\n",
    "    processed_img = preprocess_image(img_path, target_size=(224, 224), model_type='efficientnet')\n",
    "    \n",
    "    # Measure inference time\n",
    "    start_time = time.time()\n",
    "    predictions = eff_model.predict(processed_img)\n",
    "    inference_time = time.time() - start_time\n",
    "\n",
    "    eff_index = np.argmax(predictions[0])\n",
    "    eff_confidence = predictions[0][eff_index]\n",
    "\n",
    "    if eff_confidence < eff_threshold:\n",
    "        return \"Unrecognized\", eff_confidence, None, inference_time\n",
    "\n",
    "    eff_label = eff_class_labels[eff_index]\n",
    "    return eff_label, eff_confidence, processed_img, inference_time\n",
    "\n",
    "def predict_dense(img_array):\n",
    "    # Measure inference time\n",
    "    start_time = time.time()\n",
    "    predictions = dense_model.predict(img_array)\n",
    "    inference_time = time.time() - start_time\n",
    "\n",
    "    dense_index = np.argmax(predictions[0])\n",
    "    dense_confidence = predictions[0][dense_index]\n",
    "\n",
    "    dense_label = dense_class_labels[dense_index]\n",
    "    return dense_label, dense_confidence, inference_time\n",
    "\n",
    "# Path to the test image\n",
    "image_path = os.path.join('densenet_dataset', 'splitted_data', 'test', 'Mealy Bug', '20240713_151830.jpg')\n",
    "\n",
    "# To verify the path\n",
    "print(\"Image Path:\", image_path)\n",
    "\n",
    "# Predict with EfficientNet whether fruit or leaf\n",
    "eff_label, eff_confidence, processed_img, eff_inference_time = predict_eff(image_path)\n",
    "print(f\"EfficientNet Prediction: {eff_label}, Confidence: {eff_confidence:.2f}, Inference Time: {eff_inference_time:.4f} seconds\")\n",
    "\n",
    "# If classified as \"fruit\" or \"leaf,\" pass to DenseNet\n",
    "if eff_label in [\"fruit\", \"leaf\"] and processed_img is not None:\n",
    "    # Re-preprocess for DenseNet\n",
    "    dense_img = preprocess_image(image_path, target_size=(224, 224), model_type='densenet')\n",
    "    dense_label, dense_confidence, dense_inference_time = predict_dense(dense_img)\n",
    "    print(f\"DenseNet Prediction: {dense_label}, Confidence: {dense_confidence:.2f}, Inference Time: {dense_inference_time:.4f} seconds\")\n",
    "else:\n",
    "    print(\"Image is not a 'fruit' or 'leaf'\")\n"
   ]
  },
  {
   "cell_type": "code",
   "execution_count": null,
   "id": "00475029-d5c0-44bd-aa28-a1c514aaee4a",
   "metadata": {},
   "outputs": [],
   "source": []
  },
  {
   "cell_type": "code",
   "execution_count": null,
   "id": "7facf70c-be57-40b4-a17c-2210367e0efb",
   "metadata": {},
   "outputs": [],
   "source": []
  }
 ],
 "metadata": {
  "kernelspec": {
   "display_name": "Python 3 (ipykernel)",
   "language": "python",
   "name": "python3"
  },
  "language_info": {
   "codemirror_mode": {
    "name": "ipython",
    "version": 3
   },
   "file_extension": ".py",
   "mimetype": "text/x-python",
   "name": "python",
   "nbconvert_exporter": "python",
   "pygments_lexer": "ipython3",
   "version": "3.9.18"
  }
 },
 "nbformat": 4,
 "nbformat_minor": 5
}
